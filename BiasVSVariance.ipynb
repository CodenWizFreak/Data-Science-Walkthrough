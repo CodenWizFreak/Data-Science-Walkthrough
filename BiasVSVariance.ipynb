{
 "cells": [
  {
   "cell_type": "code",
   "execution_count": 4,
   "id": "080cb6d7-db40-4bfa-911e-d5aef7c8e7f0",
   "metadata": {},
   "outputs": [
    {
     "data": {
      "text/plain": [
       "\"\\nBias:\\nBias is the measure of how accurately a model can capture a pattern in a training dataset. If train error big => High bias, else Low bias.\\nThink of Bias as the error introduced by making assumptions that might not be true about the data.\\nHigh Bias means you're making strong assumptions about the data that aren't very accurate, which causes you to oversimplify things. This can lead to underfitting, where the model doesn’t learn enough from the data and misses important patterns.\\nLow Bias means the model is doing a good job of fitting the data and capturing the underlying patterns.\\n\\nVariance:\\nNow, Variance refers to how much the model's predictions change when you use different sets of data.\\nHigh Variance means the model is very sensitive to small changes in the training data. It learns not just the true patterns, but also the random noise in the data (things that don’t matter). This can lead to overfitting, where the model works great on the training data but fails when it sees new data.\\nLow Variance means the model doesn't get influenced too much by small changes in the data, and it’s likely to perform consistently on new data.\\n\\nIn machine learning, we want to balance both bias and variance. This is called the Bias-Variance Tradeoff:\\nIf you have high bias, your model is too simple and might not fit the data well (it misses important patterns).\\nIf you have high variance, your model is too complex and learns everything (including random noise) from the data, which makes it overfit.\\n\\nOverfit model: High variance, Low Bias\\nUnderfit model: High bias, Low Variance\\nBalanced fit model: Low variance, Low bias\\n\""
      ]
     },
     "execution_count": 4,
     "metadata": {},
     "output_type": "execute_result"
    }
   ],
   "source": [
    "'''\n",
    "Bias:\n",
    "Bias is the measure of how accurately a model can capture a pattern in a training dataset. If train error big => High bias, else Low bias.\n",
    "Think of Bias as the error introduced by making assumptions that might not be true about the data.\n",
    "High Bias means you're making strong assumptions about the data that aren't very accurate, which causes you to oversimplify things. This can lead to underfitting, where the model doesn’t learn enough from the data and misses important patterns.\n",
    "Low Bias means the model is doing a good job of fitting the data and capturing the underlying patterns.\n",
    "\n",
    "Variance:\n",
    "Now, Variance refers to how much the model's predictions change when you use different sets of data.\n",
    "High Variance means the model is very sensitive to small changes in the training data. It learns not just the true patterns, but also the random noise in the data (things that don’t matter). This can lead to overfitting, where the model works great on the training data but fails when it sees new data.\n",
    "Low Variance means the model doesn't get influenced too much by small changes in the data, and it’s likely to perform consistently on new data.\n",
    "\n",
    "In machine learning, we want to balance both bias and variance. This is called the Bias-Variance Tradeoff:\n",
    "If you have high bias, your model is too simple and might not fit the data well (it misses important patterns).\n",
    "If you have high variance, your model is too complex and learns everything (including random noise) from the data, which makes it overfit.\n",
    "\n",
    "Overfit model: High variance, Low Bias\n",
    "Underfit model: High bias, Low Variance\n",
    "Balanced fit model: Low variance, Low bias\n",
    "'''"
   ]
  },
  {
   "cell_type": "code",
   "execution_count": 2,
   "id": "0799f3de-b366-4534-9be2-04ce7a2d348d",
   "metadata": {},
   "outputs": [
    {
     "data": {
      "text/plain": [
       "\"\\nIn a bull's eye diagram, if 5 points are close to the bull's eye and clustered together -> Low bias, Low Variance.\\nif 5 points are far from bull's eye and clustered together -> High bias, Low Variance.\\nif 5 points are close to the bull's eye but not clustered together -> Low bias, High Variance.\\nif 5 points are far from bull's eye but not clustered together -> High bias, High Variance.\\nSO CLUSTERED TOGETHER MEANS LOW VARIANCE AND CLOSE TO BULL'S EYE MEANS LOW BIAS.\\n\""
      ]
     },
     "execution_count": 2,
     "metadata": {},
     "output_type": "execute_result"
    }
   ],
   "source": [
    "'''\n",
    "In a bull's eye diagram, if 5 points are close to the bull's eye and clustered together -> Low bias, Low Variance.\n",
    "if 5 points are far from bull's eye and clustered together -> High bias, Low Variance.\n",
    "if 5 points are close to the bull's eye but not clustered together -> Low bias, High Variance.\n",
    "if 5 points are far from bull's eye but not clustered together -> High bias, High Variance.\n",
    "SO CLUSTERED TOGETHER MEANS LOW VARIANCE AND CLOSE TO BULL'S EYE MEANS LOW BIAS.\n",
    "'''"
   ]
  },
  {
   "cell_type": "code",
   "execution_count": 3,
   "id": "b5cbea17-b2fa-4368-8571-b4c5d1f4c66b",
   "metadata": {},
   "outputs": [
    {
     "data": {
      "text/plain": [
       "'\\nWays to get a balanced fit model:\\nCross validation, L1 & L2 Regularization, PCA, Bagging and Boosting techniques.\\n'"
      ]
     },
     "execution_count": 3,
     "metadata": {},
     "output_type": "execute_result"
    }
   ],
   "source": [
    "'''\n",
    "Ways to get a balanced fit model:\n",
    "Cross validation, L1 & L2 Regularization, PCA, Bagging and Boosting techniques.\n",
    "'''"
   ]
  },
  {
   "cell_type": "code",
   "execution_count": null,
   "id": "92c0c854-36b9-421d-858a-567397d9ed22",
   "metadata": {},
   "outputs": [],
   "source": []
  }
 ],
 "metadata": {
  "kernelspec": {
   "display_name": "Python 3 (ipykernel)",
   "language": "python",
   "name": "python3"
  },
  "language_info": {
   "codemirror_mode": {
    "name": "ipython",
    "version": 3
   },
   "file_extension": ".py",
   "mimetype": "text/x-python",
   "name": "python",
   "nbconvert_exporter": "python",
   "pygments_lexer": "ipython3",
   "version": "3.12.4"
  }
 },
 "nbformat": 4,
 "nbformat_minor": 5
}
