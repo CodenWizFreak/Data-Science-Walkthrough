{
 "cells": [
  {
   "cell_type": "code",
   "execution_count": 1,
   "id": "8cd6bdae-d8e2-4698-9f53-aa1de14d21a0",
   "metadata": {},
   "outputs": [],
   "source": [
    "from sklearn.linear_model import LogisticRegression\n",
    "from sklearn.svm import SVC\n",
    "from sklearn.ensemble import RandomForestClassifier\n",
    "import numpy as np\n",
    "from sklearn.datasets import load_digits\n",
    "digits=load_digits()"
   ]
  },
  {
   "cell_type": "code",
   "execution_count": 2,
   "id": "65ce7a3f-3604-4692-9348-c893066f4014",
   "metadata": {},
   "outputs": [],
   "source": [
    "from sklearn.model_selection import train_test_split\n",
    "X_train,X_test,y_train,y_test=train_test_split(digits.data,digits.target,test_size=0.3)"
   ]
  },
  {
   "cell_type": "code",
   "execution_count": 23,
   "id": "b1ad0c9a-5ae9-4fc9-90e4-f54b610006eb",
   "metadata": {},
   "outputs": [
    {
     "data": {
      "text/plain": [
       "0.9740740740740741"
      ]
     },
     "execution_count": 23,
     "metadata": {},
     "output_type": "execute_result"
    }
   ],
   "source": [
    "lr=LogisticRegression(max_iter=158) #the number of iterations refers to the number of steps the optimization algorithm (such as gradient descent) takes to find the optimal values of the model's coefficients (weights). These coefficients are the parameters that help the model make predictions.\n",
    "lr.fit(X_train,y_train)\n",
    "lr.score(X_test,y_test)"
   ]
  },
  {
   "cell_type": "code",
   "execution_count": 24,
   "id": "ddb18689-437d-4af2-a77b-1c9e7add5f8c",
   "metadata": {},
   "outputs": [
    {
     "data": {
      "text/plain": [
       "0.9925925925925926"
      ]
     },
     "execution_count": 24,
     "metadata": {},
     "output_type": "execute_result"
    }
   ],
   "source": [
    "sv=SVC()\n",
    "sv.fit(X_train,y_train)\n",
    "sv.score(X_test,y_test)\n"
   ]
  },
  {
   "cell_type": "code",
   "execution_count": 25,
   "id": "c5a0ebc0-2e39-4a98-903a-07019850da36",
   "metadata": {},
   "outputs": [
    {
     "data": {
      "text/plain": [
       "0.9814814814814815"
      ]
     },
     "execution_count": 25,
     "metadata": {},
     "output_type": "execute_result"
    }
   ],
   "source": [
    "rfc=RandomForestClassifier()\n",
    "rfc.fit(X_train,y_train)\n",
    "rfc.score(X_test,y_test)"
   ]
  },
  {
   "cell_type": "code",
   "execution_count": 37,
   "id": "b02af565-4658-4455-ab40-eef1f0c1e8d2",
   "metadata": {},
   "outputs": [
    {
     "data": {
      "text/plain": [
       "KFold(n_splits=3, random_state=None, shuffle=False)"
      ]
     },
     "execution_count": 37,
     "metadata": {},
     "output_type": "execute_result"
    }
   ],
   "source": [
    "from sklearn.model_selection import KFold\n",
    "kf=KFold(n_splits=3)\n",
    "kf\n",
    "#In K-Fold cross validation, we divide the dataset into k equal parts, train it on k-1 folds and then test the model on the 1 remaining fold. This process repeats k times ensuring that every data point gets a chance to be a part of the test set.\n",
    "#Stratified K-Fold is a smart version of K-Fold that preserves the percentage of samples for each class in every fold. Since in the below cell we aren't using stratified kfold, the test and train set sizes are different."
   ]
  },
  {
   "cell_type": "code",
   "execution_count": 38,
   "id": "ed0c558a-b2bd-4e8f-9d03-307ae86d179b",
   "metadata": {},
   "outputs": [
    {
     "name": "stdout",
     "output_type": "stream",
     "text": [
      "[4 5 6 7 8 9] [0 1 2 3]\n",
      "[0 1 2 3 7 8 9] [4 5 6]\n",
      "[0 1 2 3 4 5 6] [7 8 9]\n"
     ]
    }
   ],
   "source": [
    "for train_index, test_index in kf.split([1,2,3,4,5,6,7,8,9,10]):  #3 iterations of train and test sets\n",
    "    print(train_index,test_index)"
   ]
  },
  {
   "cell_type": "code",
   "execution_count": 39,
   "id": "dca56585-567f-4d55-9698-cbe0cb78e905",
   "metadata": {},
   "outputs": [],
   "source": [
    "def get_score(model, X_train, X_test, y_train, y_test):\n",
    "    model.fit(X_train, y_train)\n",
    "    return model.score(X_test, y_test)"
   ]
  },
  {
   "cell_type": "code",
   "execution_count": 59,
   "id": "014373c9-85bf-492c-a8b5-22b756c2693d",
   "metadata": {},
   "outputs": [],
   "source": [
    "from sklearn.model_selection import StratifiedKFold\n",
    "folds=StratifiedKFold(n_splits=3)\n",
    "scores_l=[]\n",
    "scores_svm=[]\n",
    "scores_rf=[]\n",
    "\n",
    "for train_index,test_index in folds.split(digits.data,digits.target):\n",
    "    X_train,X_test,y_train,y_test=digits.data[train_index],digits.data[test_index],digits.target[train_index],digits.target[test_index]\n",
    "    scores_l.append(get_score(LogisticRegression(max_iter=200),X_train,X_test,y_train,y_test)) #find out what is solver=liblinear and multiclass=ovr\n",
    "    scores_svm.append(get_score(SVC(),X_train,X_test,y_train,y_test))\n",
    "    scores_rf.append(get_score(RandomForestClassifier(n_estimators=60),X_train,X_test,y_train,y_test))"
   ]
  },
  {
   "cell_type": "code",
   "execution_count": 42,
   "id": "e0723617-cced-4223-bc94-704f8131fe9b",
   "metadata": {},
   "outputs": [
    {
     "data": {
      "text/plain": [
       "[0.9198664440734557, 0.9415692821368948, 0.9165275459098498]"
      ]
     },
     "execution_count": 42,
     "metadata": {},
     "output_type": "execute_result"
    }
   ],
   "source": [
    "scores_l"
   ]
  },
  {
   "cell_type": "code",
   "execution_count": 43,
   "id": "2c114a9f-2fbb-42fe-9dfd-383a185e7bf5",
   "metadata": {},
   "outputs": [
    {
     "data": {
      "text/plain": [
       "[0.9649415692821369, 0.9799666110183639, 0.9649415692821369]"
      ]
     },
     "execution_count": 43,
     "metadata": {},
     "output_type": "execute_result"
    }
   ],
   "source": [
    "scores_svm"
   ]
  },
  {
   "cell_type": "code",
   "execution_count": 60,
   "id": "f1f3eb1e-5ed9-49de-a203-d004f8bb7f47",
   "metadata": {},
   "outputs": [
    {
     "data": {
      "text/plain": [
       "[0.9365609348914858, 0.9549248747913188, 0.9265442404006677]"
      ]
     },
     "execution_count": 60,
     "metadata": {},
     "output_type": "execute_result"
    }
   ],
   "source": [
    "scores_rf"
   ]
  },
  {
   "cell_type": "code",
   "execution_count": 61,
   "id": "ee37ac7b-0297-4b9e-a435-f184d75c944b",
   "metadata": {},
   "outputs": [],
   "source": [
    "#Many times we get in a dilemma of which machine learning model should we use for a given problem. KFold cross validation allows us to evaluate performance of a model by creating K folds of given dataset."
   ]
  },
  {
   "cell_type": "code",
   "execution_count": 62,
   "id": "7a371e9f-8910-49e8-a72a-3a3618fa0283",
   "metadata": {},
   "outputs": [],
   "source": [
    "from sklearn.model_selection import cross_val_score"
   ]
  },
  {
   "cell_type": "code",
   "execution_count": 67,
   "id": "8232d22c-c57a-4980-8325-3b48179f43aa",
   "metadata": {},
   "outputs": [
    {
     "data": {
      "text/plain": [
       "array([0.91986644, 0.94156928, 0.91652755])"
      ]
     },
     "execution_count": 67,
     "metadata": {},
     "output_type": "execute_result"
    }
   ],
   "source": [
    "cross_val_score(LogisticRegression(max_iter=200), digits.data, digits.target,cv=3)"
   ]
  },
  {
   "cell_type": "code",
   "execution_count": 68,
   "id": "2dac34db-58f6-4abf-911b-4220917fb55d",
   "metadata": {},
   "outputs": [
    {
     "data": {
      "text/plain": [
       "array([0.96494157, 0.97996661, 0.96494157])"
      ]
     },
     "execution_count": 68,
     "metadata": {},
     "output_type": "execute_result"
    }
   ],
   "source": [
    "cross_val_score(SVC(),digits.data,digits.target,cv=3)"
   ]
  },
  {
   "cell_type": "code",
   "execution_count": 69,
   "id": "97c12701-5b5c-4043-a284-2ecef2844f2d",
   "metadata": {},
   "outputs": [
    {
     "data": {
      "text/plain": [
       "array([0.93656093, 0.95492487, 0.92654424])"
      ]
     },
     "execution_count": 69,
     "metadata": {},
     "output_type": "execute_result"
    }
   ],
   "source": [
    "cross_val_score(RandomForestClassifier(),digits.data,digits.target,cv=3)"
   ]
  },
  {
   "cell_type": "code",
   "execution_count": 74,
   "id": "2a019689-e359-4227-bf13-a686b05c2cf2",
   "metadata": {},
   "outputs": [
    {
     "data": {
      "text/plain": [
       "0.9309961046188091"
      ]
     },
     "execution_count": 74,
     "metadata": {},
     "output_type": "execute_result"
    }
   ],
   "source": [
    "scores1=cross_val_score(RandomForestClassifier(n_estimators=40),digits.data,digits.target,cv=3)\n",
    "np.average(scores1)"
   ]
  },
  {
   "cell_type": "code",
   "execution_count": 75,
   "id": "7470fe4c-a940-41de-a5ad-3ec2cd887043",
   "metadata": {},
   "outputs": [
    {
     "data": {
      "text/plain": [
       "0.938230383973289"
      ]
     },
     "execution_count": 75,
     "metadata": {},
     "output_type": "execute_result"
    }
   ],
   "source": [
    "scores2=cross_val_score(RandomForestClassifier(n_estimators=50),digits.data,digits.target,cv=3)\n",
    "np.average(scores2)"
   ]
  },
  {
   "cell_type": "code",
   "execution_count": 86,
   "id": "5b96266e-dc12-49d9-a650-663642d14632",
   "metadata": {},
   "outputs": [
    {
     "data": {
      "text/plain": [
       "0.9387868670005565"
      ]
     },
     "execution_count": 86,
     "metadata": {},
     "output_type": "execute_result"
    }
   ],
   "source": [
    "scores3=cross_val_score(RandomForestClassifier(n_estimators=60),digits.data,digits.target,cv=3)\n",
    "np.average(scores3)"
   ]
  },
  {
   "cell_type": "code",
   "execution_count": 80,
   "id": "79d846d7-c5e5-4c28-85bf-af7960d8965f",
   "metadata": {},
   "outputs": [],
   "source": [
    "#Like the above thing, check for which fine tuning the model works best."
   ]
  }
 ],
 "metadata": {
  "kernelspec": {
   "display_name": "Python 3 (ipykernel)",
   "language": "python",
   "name": "python3"
  },
  "language_info": {
   "codemirror_mode": {
    "name": "ipython",
    "version": 3
   },
   "file_extension": ".py",
   "mimetype": "text/x-python",
   "name": "python",
   "nbconvert_exporter": "python",
   "pygments_lexer": "ipython3",
   "version": "3.12.4"
  }
 },
 "nbformat": 4,
 "nbformat_minor": 5
}
